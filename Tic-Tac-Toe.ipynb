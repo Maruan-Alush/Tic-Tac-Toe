{
 "cells": [
  {
   "cell_type": "markdown",
   "metadata": {},
   "source": [
    "## Tic-Tac-Toe Planning"
   ]
  },
  {
   "cell_type": "markdown",
   "metadata": {},
   "source": [
    "Rules:\n",
    "The object of Tic Tac Toe is to get three in a row. You play on a three by three game board. The first player is known as X and the second is O. Players alternate placing Xs and Os on the game board until either opponent has three in a row or all nine squares are filled.\n",
    "\n",
    "Planning:\n",
    "I will need a vast range of variables but the most important are:\n",
    "* The board - a list\n",
    "* Player's choice between X and O - String\n",
    "* The player's choice as to where to put their X/O - Integer\n",
    "* The second player's choice - Integer\n",
    "\n",
    "I will most likely not use a file to store the score or any other variable as it will complicate the program too much with no real benefit.\n",
    "\n",
    "The user interface will be partly graphical and partly text. The board will be drawn in the console using a 2D array and it will be modified to represent the positions of both players as they make their choices, but it will not be interactable. Instead in order to interact with the game users will have to choose a number from 1-9 to represent the spot they want to place their symbol at. The 1-9 system is also represented by the numpad on the right hand side of the user's keyboard but it will also be shown in the game at the beginning for any players that don't have a numpad.\n"
   ]
  }
 ],
 "metadata": {
  "kernelspec": {
   "display_name": "Python 3",
   "language": "python",
   "name": "python3"
  },
  "language_info": {
   "codemirror_mode": {
    "name": "ipython",
    "version": 3
   },
   "file_extension": ".py",
   "mimetype": "text/x-python",
   "name": "python",
   "nbconvert_exporter": "python",
   "pygments_lexer": "ipython3",
   "version": "3.5.2"
  }
 },
 "nbformat": 4,
 "nbformat_minor": 2
}
